{
 "cells": [
  {
   "cell_type": "markdown",
   "metadata": {},
   "source": [
    "## 5.5 Pytorch'autograd: Backpropagating all things"
   ]
  },
  {
   "cell_type": "code",
   "execution_count": 2,
   "metadata": {},
   "outputs": [],
   "source": [
    "import torch\n",
    "import numpy as np\n",
    "\n",
    "import matplotlib.pyplot as plt\n"
   ]
  },
  {
   "cell_type": "markdown",
   "metadata": {},
   "source": [
    "### Data"
   ]
  },
  {
   "cell_type": "code",
   "execution_count": 3,
   "metadata": {},
   "outputs": [],
   "source": [
    "#input\n",
    "t_u =  [35.7, 55.9, 58.2, 81.9, 56.3, 48.9, 33.9, 21.8, 48.4, 60.4, 68.4]\n",
    "\n",
    "#labels temp in C\n",
    "t_c =  [0.5, 14.0, 15.0, 28.0, 11.0, 8.0, 3.0, -4.0, 6.0, 13.0, 21.0]\n",
    "\n",
    "#convert into tensor\n",
    "t_c = torch.tensor(t_c)\n",
    "t_u = torch.tensor(t_u)"
   ]
  },
  {
   "cell_type": "markdown",
   "metadata": {},
   "source": [
    "- Rescale inputs"
   ]
  },
  {
   "cell_type": "code",
   "execution_count": 4,
   "metadata": {},
   "outputs": [],
   "source": [
    "t_un = t_u * 0.1"
   ]
  },
  {
   "cell_type": "markdown",
   "metadata": {},
   "source": [
    "### Model"
   ]
  },
  {
   "cell_type": "code",
   "execution_count": 5,
   "metadata": {},
   "outputs": [],
   "source": [
    "def model(w,b,inputs=t_u):\n",
    "    out = w * inputs + b\n",
    "    return out"
   ]
  },
  {
   "cell_type": "markdown",
   "metadata": {},
   "source": [
    "### Loss function"
   ]
  },
  {
   "cell_type": "code",
   "execution_count": 6,
   "metadata": {},
   "outputs": [],
   "source": [
    "def loss_fn(preds, targets=t_c):\n",
    "    ''' return Mean Square Error as MSE\n",
    "    '''\n",
    "    squared_diffs = (preds - targets)**2\n",
    "    mean_sq_diffs = squared_diffs.mean()\n",
    "    return mean_sq_diffs"
   ]
  },
  {
   "cell_type": "markdown",
   "metadata": {},
   "source": [
    "## 5.5.2 Optimize a la carte"
   ]
  },
  {
   "cell_type": "markdown",
   "metadata": {},
   "source": [
    "- Different Optimization algorithms"
   ]
  },
  {
   "cell_type": "code",
   "execution_count": 7,
   "metadata": {},
   "outputs": [],
   "source": [
    "import torch.optim as optim"
   ]
  },
  {
   "cell_type": "code",
   "execution_count": 8,
   "metadata": {},
   "outputs": [
    {
     "data": {
      "text/plain": [
       "['ASGD',\n",
       " 'Adadelta',\n",
       " 'Adagrad',\n",
       " 'Adam',\n",
       " 'AdamW',\n",
       " 'Adamax',\n",
       " 'LBFGS',\n",
       " 'NAdam',\n",
       " 'Optimizer',\n",
       " 'RAdam',\n",
       " 'RMSprop',\n",
       " 'Rprop',\n",
       " 'SGD',\n",
       " 'SparseAdam',\n",
       " '__builtins__',\n",
       " '__cached__',\n",
       " '__doc__',\n",
       " '__file__',\n",
       " '__loader__',\n",
       " '__name__',\n",
       " '__package__',\n",
       " '__path__',\n",
       " '__spec__',\n",
       " '_functional',\n",
       " '_multi_tensor',\n",
       " 'lr_scheduler',\n",
       " 'swa_utils']"
      ]
     },
     "execution_count": 8,
     "metadata": {},
     "output_type": "execute_result"
    }
   ],
   "source": [
    "dir(optim)"
   ]
  },
  {
   "cell_type": "markdown",
   "metadata": {},
   "source": [
    "- Using Gradient Descent Optimizer via optim\n",
    "    - SGD : stochastic gradient descent\n",
    "        - stochastic: from random mini-batch instead of the whole dataset"
   ]
  },
  {
   "cell_type": "code",
   "execution_count": 9,
   "metadata": {},
   "outputs": [],
   "source": [
    "params = torch.tensor([1.0,0.0],requires_grad=True)\n",
    "learning_rate = 1e-5\n",
    "optimizer = optim.SGD([params], lr=learning_rate)"
   ]
  },
  {
   "cell_type": "code",
   "execution_count": 10,
   "metadata": {},
   "outputs": [
    {
     "name": "stdout",
     "output_type": "stream",
     "text": [
      "tensor([1.0099e+00, 8.2600e-04], requires_grad=True)\n"
     ]
    }
   ],
   "source": [
    "preds = model(*params, inputs=t_c)\n",
    "loss = loss_fn(preds, targets=t_u)\n",
    "#calculate gradient\n",
    "loss.backward()\n",
    "#update params \n",
    "optimizer.step()\n",
    "\n",
    "print(params)"
   ]
  },
  {
   "cell_type": "markdown",
   "metadata": {},
   "source": [
    "- Next iteration: \n",
    "    - Adding zero_grad"
   ]
  },
  {
   "cell_type": "code",
   "execution_count": 11,
   "metadata": {},
   "outputs": [
    {
     "name": "stdout",
     "output_type": "stream",
     "text": [
      "tensor([ 9.6414e-01, -1.0268e-05], requires_grad=True)\n"
     ]
    }
   ],
   "source": [
    "preds = model(*params, inputs=t_u)\n",
    "loss = loss_fn(preds, targets=t_c)\n",
    "#zero grad\n",
    "optimizer.zero_grad()\n",
    "#calculate gradient\n",
    "loss.backward()\n",
    "#update params \n",
    "optimizer.step()\n",
    "\n",
    "print(params)"
   ]
  },
  {
   "cell_type": "markdown",
   "metadata": {},
   "source": [
    "- Updated Version of Training Loop with Hyper Parameters:\n",
    "    - Num epochs\n",
    "    - Optimizer will include learning_rate"
   ]
  },
  {
   "cell_type": "code",
   "execution_count": 12,
   "metadata": {},
   "outputs": [],
   "source": [
    "params = torch.tensor([1.0,0.0],requires_grad=True)\n",
    "learning_rate = 1e-2\n",
    "optimizer = optim.SGD(params=[params],lr=learning_rate)"
   ]
  },
  {
   "cell_type": "code",
   "execution_count": 13,
   "metadata": {},
   "outputs": [],
   "source": [
    "def training_loop(n_epochs,params, optimizer, inputs = t_u, targets=t_c):\n",
    "    for epoch in range(1,n_epochs+1):\n",
    "        w,b = params\n",
    "        preds = model(w,b,inputs)\n",
    "        loss = loss_fn(preds, targets)\n",
    "\n",
    "        #zero grad\n",
    "        optimizer.zero_grad()\n",
    "        #calculate gradients\n",
    "        loss.backward()\n",
    "        #update parameters\n",
    "        optimizer.step()\n",
    "\n",
    "        #log \n",
    "        if epoch % 500 == 0:\n",
    "            print(f\"Epoch: {epoch} - loss:{loss:.4f}\")\n",
    "            \n",
    "    return params\n",
    "            \n",
    "    "
   ]
  },
  {
   "cell_type": "code",
   "execution_count": 14,
   "metadata": {},
   "outputs": [
    {
     "name": "stdout",
     "output_type": "stream",
     "text": [
      "Epoch: 500 - loss:7.8601\n",
      "Epoch: 1000 - loss:3.8285\n",
      "Epoch: 1500 - loss:3.0922\n",
      "Epoch: 2000 - loss:2.9577\n",
      "Epoch: 2500 - loss:2.9331\n",
      "Epoch: 3000 - loss:2.9286\n",
      "Epoch: 3500 - loss:2.9278\n",
      "Epoch: 4000 - loss:2.9277\n",
      "Epoch: 4500 - loss:2.9277\n",
      "Epoch: 5000 - loss:2.9276\n"
     ]
    },
    {
     "data": {
      "text/plain": [
       "tensor([  5.3671, -17.3012], requires_grad=True)"
      ]
     },
     "execution_count": 14,
     "metadata": {},
     "output_type": "execute_result"
    }
   ],
   "source": [
    "training_loop(\n",
    "    n_epochs=5000,\n",
    "    params=params,\n",
    "    optimizer=optimizer,\n",
    "    inputs=t_un,\n",
    "    targets=t_c\n",
    ")"
   ]
  },
  {
   "cell_type": "markdown",
   "metadata": {},
   "source": [
    "- Testing other optimizers\n",
    "    - Adam"
   ]
  },
  {
   "cell_type": "code",
   "execution_count": 15,
   "metadata": {},
   "outputs": [
    {
     "name": "stdout",
     "output_type": "stream",
     "text": [
      "Epoch: 500 - loss:7.6129\n",
      "Epoch: 1000 - loss:3.0867\n",
      "Epoch: 1500 - loss:2.9286\n",
      "Epoch: 2000 - loss:2.9276\n",
      "Epoch: 2500 - loss:2.9276\n",
      "Epoch: 3000 - loss:2.9276\n",
      "Epoch: 3500 - loss:2.9276\n",
      "Epoch: 4000 - loss:2.9276\n",
      "Epoch: 4500 - loss:2.9276\n",
      "Epoch: 5000 - loss:2.9276\n"
     ]
    },
    {
     "data": {
      "text/plain": [
       "tensor([  0.5368, -17.3048], requires_grad=True)"
      ]
     },
     "execution_count": 15,
     "metadata": {},
     "output_type": "execute_result"
    }
   ],
   "source": [
    "params = torch.tensor([1.0,0.0],requires_grad=True)\n",
    "learning_rate = 1e-1\n",
    "optimizer = optim.Adam([params], lr=learning_rate)\n",
    "\n",
    "training_loop(\n",
    "    n_epochs = 5000,\n",
    "    params = params,\n",
    "    optimizer=optimizer,\n",
    "    inputs=t_u,\n",
    "    targets=t_c\n",
    ")\n"
   ]
  },
  {
   "cell_type": "markdown",
   "metadata": {},
   "source": [
    "### 5.5.3 Training, validation and overfitting\n",
    "- Avoid overfitting: \n",
    "    - Adding penalization terms to the loss function\n",
    "    - Or adding noise to the inputsamples  \n",
    "- Evaluating the loss on training\n",
    "    - If the loss does not decrease : model is so simple for the data.\n",
    "- Evalutaing the loss on validation:\n",
    "    - if the loss on training and validation diverge, the model is overfitting"
   ]
  },
  {
   "cell_type": "markdown",
   "metadata": {},
   "source": [
    "- Splitting A Dataset"
   ]
  },
  {
   "cell_type": "code",
   "execution_count": 36,
   "metadata": {},
   "outputs": [
    {
     "data": {
      "text/plain": [
       "(torch.Size([11]), 11)"
      ]
     },
     "execution_count": 36,
     "metadata": {},
     "output_type": "execute_result"
    }
   ],
   "source": [
    "t_u.shape , t_u.shape[0]"
   ]
  },
  {
   "cell_type": "code",
   "execution_count": 18,
   "metadata": {},
   "outputs": [
    {
     "data": {
      "text/plain": [
       "2"
      ]
     },
     "execution_count": 18,
     "metadata": {},
     "output_type": "execute_result"
    }
   ],
   "source": [
    "#shuffle data\n",
    "n_samples = t_u.shape[0] # get iteger out of the tensor \n",
    "#to split data 80% , 20%\n",
    "n_val = int(0.2 * n_samples)\n",
    "n_val"
   ]
  },
  {
   "cell_type": "code",
   "execution_count": 23,
   "metadata": {},
   "outputs": [],
   "source": [
    "#shuffle indices\n",
    "shuffled_indices = torch.randperm(n_samples)"
   ]
  },
  {
   "cell_type": "code",
   "execution_count": 24,
   "metadata": {},
   "outputs": [
    {
     "data": {
      "text/plain": [
       "(tensor([ 6,  8,  1,  9,  3,  4, 10,  2,  7]), tensor([0, 5]))"
      ]
     },
     "execution_count": 24,
     "metadata": {},
     "output_type": "execute_result"
    }
   ],
   "source": [
    "train_indices = shuffled_indices[:-n_val] # from n-val count back to the beginning\n",
    "val_indices = shuffled_indices[-n_val:] # from n-val to the end\n",
    "train_indices, val_indices"
   ]
  },
  {
   "cell_type": "code",
   "execution_count": 33,
   "metadata": {},
   "outputs": [],
   "source": [
    "# training set 80%\n",
    "train_t_u = t_u[train_indices]\n",
    "train_t_c = t_c[train_indices]\n",
    "\n",
    "#validation set 20%\n",
    "val_t_u = t_u[val_indices]\n",
    "val_t_c = t_c[val_indices]\n",
    "\n",
    "#re-scale\n",
    "train_t_un = 0.1 * train_t_u\n",
    "val_t_un = 0.1 * val_t_u"
   ]
  },
  {
   "cell_type": "code",
   "execution_count": 34,
   "metadata": {},
   "outputs": [],
   "source": [
    "def training_loop(n_epochs,params, optimizer, train_t_u, train_t_c ,val_t_u, val_t_c ):\n",
    "    for epoch in range(1,n_epochs+1):\n",
    "        w,b = params\n",
    "\n",
    "        #train\n",
    "        train_preds = model(w,b, train_t_u) \n",
    "        train_loss = loss_fn(train_preds, train_t_c)\n",
    "        #validation\n",
    "        val_preds = model(w,b,val_t_u)\n",
    "        val_loss = loss_fn(val_preds, val_t_c)\n",
    "\n",
    "        #Apply optimizer for train stage only\n",
    "        optimizer.zero_grad()\n",
    "        train_loss.backward()\n",
    "        optimizer.step()\n",
    "\n",
    "        if epoch < 3 or epoch % 500 == 0:\n",
    "            print(f\" Epoch : {epoch}, Training loss : {train_loss.item():.4f},\" \n",
    "                  f\" Validation loss: {val_loss.item():.4f}\")\n",
    "\n",
    "    return params"
   ]
  },
  {
   "cell_type": "code",
   "execution_count": 35,
   "metadata": {},
   "outputs": [],
   "source": [
    "params = torch.tensor([1.0,0.0],requires_grad=True)\n",
    "learning_rate = 1e-2\n",
    "optimizer = optim.SGD([params],lr=learning_rate)"
   ]
  },
  {
   "cell_type": "code",
   "execution_count": 32,
   "metadata": {},
   "outputs": [
    {
     "name": "stdout",
     "output_type": "stream",
     "text": [
      " Epoch : 0, Training loss : 96.1012, Validation loss: 9.5485\n",
      " Epoch : 1, Training loss : 35.6511, Validation loss: 22.7698\n",
      " Epoch : 2, Training loss : 28.4114, Validation loss: 35.2234\n",
      " Epoch : 500, Training loss : 7.5778, Validation loss: 13.6940\n",
      " Epoch : 1000, Training loss : 3.9653, Validation loss: 6.0994\n",
      " Epoch : 1500, Training loss : 3.3141, Validation loss: 3.8005\n",
      " Epoch : 2000, Training loss : 3.1967, Validation loss: 2.9913\n",
      " Epoch : 2500, Training loss : 3.1755, Validation loss: 2.6778\n",
      " Epoch : 3000, Training loss : 3.1717, Validation loss: 2.5501\n",
      " Epoch : 3500, Training loss : 3.1710, Validation loss: 2.4969\n",
      " Epoch : 4000, Training loss : 3.1709, Validation loss: 2.4745\n",
      " Epoch : 4500, Training loss : 3.1709, Validation loss: 2.4650\n"
     ]
    },
    {
     "data": {
      "text/plain": [
       "tensor([  5.2505, -16.4170], requires_grad=True)"
      ]
     },
     "execution_count": 32,
     "metadata": {},
     "output_type": "execute_result"
    }
   ],
   "source": [
    "training_loop(\n",
    "    n_epochs = 5000,\n",
    "    optimizer = optimizer,\n",
    "    params = params,\n",
    "    train_t_u = train_t_un,\n",
    "    val_t_u  = val_t_un,\n",
    "    train_t_c = train_t_c,\n",
    "    val_t_c = val_t_c\n",
    ")"
   ]
  },
  {
   "cell_type": "markdown",
   "metadata": {},
   "source": [
    "### 5.5.4 Autograd nits and switching it off\n",
    "- Seperated Computation graph will be created in train stage and validation stage\n",
    "- Turn off Auto grad by torch.no_grad\n",
    "- Use torch.set_grad_enabled to turn on/off gradient tracking"
   ]
  },
  {
   "cell_type": "code",
   "execution_count": 38,
   "metadata": {},
   "outputs": [],
   "source": [
    "def training_loop(n_epochs, params, optimizer, train_t_u, train_t_c, val_t_u, val_t_c):\n",
    "    for epoch in range(1,n_epochs+1):\n",
    "        #training\n",
    "        train_preds = model(*params,inputs=train_t_u)\n",
    "        train_loss = loss_fn(train_preds, targets=train_t_c)\n",
    "        #validating\n",
    "        with torch. no_grad(): # turn off gradient tracking\n",
    "            val_preds = model(*params, inputs=val_t_u)\n",
    "            val_loss = loss_fn(val_preds,tartgets=val_t_c)\n",
    "            assert val_loss.requires_grad == False\n",
    "        #backward\n",
    "        optimizer.zero_grad()\n",
    "        train_loss.backward()\n",
    "        optimizer.step()\n",
    "    return params"
   ]
  },
  {
   "cell_type": "code",
   "execution_count": 39,
   "metadata": {},
   "outputs": [],
   "source": [
    "# Using torch.set_grad_enabled on train or inference mode\n",
    "def calc_forward(is_train:bool,params, inputs=t_u, targets=t_c):\n",
    "    with torch.set_grad_enabled(is_train):\n",
    "        preds = model(*params, inputs)\n",
    "        loss = loss_fn(preds, targets)\n",
    "    return loss "
   ]
  },
  {
   "cell_type": "code",
   "execution_count": null,
   "metadata": {},
   "outputs": [],
   "source": []
  }
 ],
 "metadata": {
  "kernelspec": {
   "display_name": "play_ground",
   "language": "python",
   "name": "python3"
  },
  "language_info": {
   "codemirror_mode": {
    "name": "ipython",
    "version": 3
   },
   "file_extension": ".py",
   "mimetype": "text/x-python",
   "name": "python",
   "nbconvert_exporter": "python",
   "pygments_lexer": "ipython3",
   "version": "3.12.3"
  }
 },
 "nbformat": 4,
 "nbformat_minor": 2
}
